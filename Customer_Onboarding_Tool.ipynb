{
 "cells": [
  {
   "cell_type": "markdown",
   "id": "6eaab9f0",
   "metadata": {},
   "source": [
    "# Customer Onboarding Analysis Tool"
   ]
  },
  {
   "cell_type": "markdown",
   "id": "78fed6c9",
   "metadata": {},
   "source": [
    "## Backround"
   ]
  },
  {
   "cell_type": "markdown",
   "id": "e7ced5bf",
   "metadata": {},
   "source": [
    "The following project looks at ways of helping the marketing and credit department at the NHEF Empowerment Fund have a better understanding of our customers. The NHEF Empowerment Fund is a real estate company that sells land (plots) on a payment plan over periods between 1 to 5 years. The idea behind the company was to provide affordbale land and housing options with little to no barriers of entry. It is due to this, that I decided to come up with a way to track certain customers based on key parameters collected. If a customer is identified as potentially needing extra attention by the App, then marketing teams know to continuously engage said customer through targeted marketing by the marketing team and payment reminders by the credit team. Customers that are tagged as needing extra attention will then be placed in a database and their monthly payments monitored for the duration of their loan period.\n"
   ]
  },
  {
   "cell_type": "markdown",
   "id": "44cea713",
   "metadata": {},
   "source": [
    "## Parameters"
   ]
  },
  {
   "cell_type": "markdown",
   "id": "a447d9e5",
   "metadata": {},
   "source": [
    "Parameters being used for this model are as follows; \n",
    "\n",
    "1. Gender\n",
    "2. Marital Status\n",
    "3. Number of Dependants \n",
    "4. Does the customer rent or own a property\n",
    "5. Employment Status\n",
    "6. Income\n",
    "7. Co-Applicant's Income\n",
    "7. Plot Price\n",
    "8. Payment Duration in Months (herinafter referred to as a loan)\n",
    "9. Does the customer have any other debt running?\n",
    "10. Estate Selection (Customer will pick one of our housing estates, i.e either Riverdale Estate, Chibombo Estate, or Emerald Park Estate)"
   ]
  },
  {
   "cell_type": "markdown",
   "id": "2323fd9e",
   "metadata": {},
   "source": [
    "# 1.The Set Up"
   ]
  },
  {
   "cell_type": "code",
   "execution_count": 1,
   "id": "78b3b440",
   "metadata": {},
   "outputs": [],
   "source": [
    "import pandas as pd\n",
    "import matplotlib.pyplot as plt\n",
    "import seaborn as sns\n",
    "import numpy as np\n",
    "import os\n",
    "os.chdir('C:/Users/hp/Desktop/Customer_Analysis')"
   ]
  },
  {
   "cell_type": "code",
   "execution_count": 2,
   "id": "1d371ebc",
   "metadata": {},
   "outputs": [],
   "source": [
    "train=pd.read_csv('C:/Users/hp/Desktop/Customer_Analysis/Train_Data.csv')\n",
    "train.Attention_Needed=train.Attention_Needed.map({'Y':1,'N':0})"
   ]
  },
  {
   "cell_type": "code",
   "execution_count": 3,
   "id": "a66a2240",
   "metadata": {},
   "outputs": [
    {
     "data": {
      "text/html": [
       "<div>\n",
       "<style scoped>\n",
       "    .dataframe tbody tr th:only-of-type {\n",
       "        vertical-align: middle;\n",
       "    }\n",
       "\n",
       "    .dataframe tbody tr th {\n",
       "        vertical-align: top;\n",
       "    }\n",
       "\n",
       "    .dataframe thead th {\n",
       "        text-align: right;\n",
       "    }\n",
       "</style>\n",
       "<table border=\"1\" class=\"dataframe\">\n",
       "  <thead>\n",
       "    <tr style=\"text-align: right;\">\n",
       "      <th></th>\n",
       "      <th>ID</th>\n",
       "      <th>Gender</th>\n",
       "      <th>Married</th>\n",
       "      <th>Dependents</th>\n",
       "      <th>Rent_or_Own</th>\n",
       "      <th>Self_Employed</th>\n",
       "      <th>Income</th>\n",
       "      <th>CoapplicantIncome</th>\n",
       "      <th>Product_Amount</th>\n",
       "      <th>Loan_Duration_Months</th>\n",
       "      <th>Estate</th>\n",
       "      <th>Any_other_debt</th>\n",
       "      <th>Attention_Needed</th>\n",
       "    </tr>\n",
       "  </thead>\n",
       "  <tbody>\n",
       "    <tr>\n",
       "      <th>0</th>\n",
       "      <td>NHEF001002</td>\n",
       "      <td>Female</td>\n",
       "      <td>No</td>\n",
       "      <td>0</td>\n",
       "      <td>Rent</td>\n",
       "      <td>No</td>\n",
       "      <td>5849</td>\n",
       "      <td>0.0</td>\n",
       "      <td>0</td>\n",
       "      <td>60.0</td>\n",
       "      <td>Riverdale</td>\n",
       "      <td>Y</td>\n",
       "      <td>0</td>\n",
       "    </tr>\n",
       "    <tr>\n",
       "      <th>1</th>\n",
       "      <td>NHEF001003</td>\n",
       "      <td>Male</td>\n",
       "      <td>Yes</td>\n",
       "      <td>2</td>\n",
       "      <td>Rent</td>\n",
       "      <td>No</td>\n",
       "      <td>6500</td>\n",
       "      <td>1508.0</td>\n",
       "      <td>128000</td>\n",
       "      <td>60.0</td>\n",
       "      <td>Emerald Park</td>\n",
       "      <td>Y</td>\n",
       "      <td>0</td>\n",
       "    </tr>\n",
       "    <tr>\n",
       "      <th>2</th>\n",
       "      <td>NHEF001005</td>\n",
       "      <td>Male</td>\n",
       "      <td>No</td>\n",
       "      <td>0</td>\n",
       "      <td>Rent</td>\n",
       "      <td>Yes</td>\n",
       "      <td>3000</td>\n",
       "      <td>0.0</td>\n",
       "      <td>66000</td>\n",
       "      <td>60.0</td>\n",
       "      <td>Riverdale</td>\n",
       "      <td>Y</td>\n",
       "      <td>0</td>\n",
       "    </tr>\n",
       "    <tr>\n",
       "      <th>3</th>\n",
       "      <td>NHEF001006</td>\n",
       "      <td>Female</td>\n",
       "      <td>Yes</td>\n",
       "      <td>1</td>\n",
       "      <td>Own</td>\n",
       "      <td>No</td>\n",
       "      <td>2583</td>\n",
       "      <td>2358.0</td>\n",
       "      <td>120000</td>\n",
       "      <td>60.0</td>\n",
       "      <td>Riverdale</td>\n",
       "      <td>Y</td>\n",
       "      <td>1</td>\n",
       "    </tr>\n",
       "    <tr>\n",
       "      <th>4</th>\n",
       "      <td>NHEF001008</td>\n",
       "      <td>Female</td>\n",
       "      <td>No</td>\n",
       "      <td>0</td>\n",
       "      <td>Rent</td>\n",
       "      <td>No</td>\n",
       "      <td>6000</td>\n",
       "      <td>0.0</td>\n",
       "      <td>141000</td>\n",
       "      <td>60.0</td>\n",
       "      <td>Riverdale</td>\n",
       "      <td>Y</td>\n",
       "      <td>0</td>\n",
       "    </tr>\n",
       "  </tbody>\n",
       "</table>\n",
       "</div>"
      ],
      "text/plain": [
       "           ID  Gender Married Dependents Rent_or_Own Self_Employed  Income  \\\n",
       "0  NHEF001002  Female      No          0        Rent            No    5849   \n",
       "1  NHEF001003    Male     Yes          2        Rent            No    6500   \n",
       "2  NHEF001005    Male      No          0        Rent           Yes    3000   \n",
       "3  NHEF001006  Female     Yes          1         Own            No    2583   \n",
       "4  NHEF001008  Female      No          0        Rent            No    6000   \n",
       "\n",
       "   CoapplicantIncome  Product_Amount  Loan_Duration_Months        Estate  \\\n",
       "0                0.0               0                  60.0     Riverdale   \n",
       "1             1508.0          128000                  60.0  Emerald Park   \n",
       "2                0.0           66000                  60.0     Riverdale   \n",
       "3             2358.0          120000                  60.0     Riverdale   \n",
       "4                0.0          141000                  60.0     Riverdale   \n",
       "\n",
       "  Any_other_debt  Attention_Needed  \n",
       "0              Y                 0  \n",
       "1              Y                 0  \n",
       "2              Y                 0  \n",
       "3              Y                 1  \n",
       "4              Y                 0  "
      ]
     },
     "execution_count": 3,
     "metadata": {},
     "output_type": "execute_result"
    }
   ],
   "source": [
    "train.head()"
   ]
  },
  {
   "cell_type": "code",
   "execution_count": 4,
   "id": "87735220",
   "metadata": {},
   "outputs": [
    {
     "data": {
      "text/plain": [
       "ID                       0\n",
       "Gender                  13\n",
       "Married                  3\n",
       "Dependents              15\n",
       "Rent_or_Own              0\n",
       "Self_Employed           32\n",
       "Income                   0\n",
       "CoapplicantIncome        0\n",
       "Product_Amount           0\n",
       "Loan_Duration_Months    14\n",
       "Estate                   0\n",
       "Any_other_debt          50\n",
       "Attention_Needed         0\n",
       "dtype: int64"
      ]
     },
     "execution_count": 4,
     "metadata": {},
     "output_type": "execute_result"
    }
   ],
   "source": [
    "train.isnull().sum()"
   ]
  },
  {
   "cell_type": "code",
   "execution_count": 5,
   "id": "c79b3115",
   "metadata": {},
   "outputs": [
    {
     "data": {
      "text/html": [
       "<div>\n",
       "<style scoped>\n",
       "    .dataframe tbody tr th:only-of-type {\n",
       "        vertical-align: middle;\n",
       "    }\n",
       "\n",
       "    .dataframe tbody tr th {\n",
       "        vertical-align: top;\n",
       "    }\n",
       "\n",
       "    .dataframe thead th {\n",
       "        text-align: right;\n",
       "    }\n",
       "</style>\n",
       "<table border=\"1\" class=\"dataframe\">\n",
       "  <thead>\n",
       "    <tr style=\"text-align: right;\">\n",
       "      <th></th>\n",
       "      <th>ID</th>\n",
       "      <th>Gender</th>\n",
       "      <th>Married</th>\n",
       "      <th>Dependents</th>\n",
       "      <th>Rent_or_Own</th>\n",
       "      <th>Self_Employed</th>\n",
       "      <th>Income</th>\n",
       "      <th>CoapplicantIncome</th>\n",
       "      <th>Product_Amount</th>\n",
       "      <th>Loan_Duration_Months</th>\n",
       "      <th>Estate</th>\n",
       "      <th>Any_other_debt</th>\n",
       "    </tr>\n",
       "  </thead>\n",
       "  <tbody>\n",
       "    <tr>\n",
       "      <th>0</th>\n",
       "      <td>NHEF001002</td>\n",
       "      <td>Female</td>\n",
       "      <td>No</td>\n",
       "      <td>0</td>\n",
       "      <td>Rent</td>\n",
       "      <td>No</td>\n",
       "      <td>5849</td>\n",
       "      <td>0.0</td>\n",
       "      <td>0</td>\n",
       "      <td>60.0</td>\n",
       "      <td>Riverdale</td>\n",
       "      <td>Y</td>\n",
       "    </tr>\n",
       "    <tr>\n",
       "      <th>1</th>\n",
       "      <td>NHEF001003</td>\n",
       "      <td>Male</td>\n",
       "      <td>Yes</td>\n",
       "      <td>2</td>\n",
       "      <td>Rent</td>\n",
       "      <td>No</td>\n",
       "      <td>6500</td>\n",
       "      <td>1508.0</td>\n",
       "      <td>128000</td>\n",
       "      <td>60.0</td>\n",
       "      <td>Emerald Park</td>\n",
       "      <td>Y</td>\n",
       "    </tr>\n",
       "    <tr>\n",
       "      <th>2</th>\n",
       "      <td>NHEF001005</td>\n",
       "      <td>Male</td>\n",
       "      <td>No</td>\n",
       "      <td>0</td>\n",
       "      <td>Rent</td>\n",
       "      <td>Yes</td>\n",
       "      <td>3000</td>\n",
       "      <td>0.0</td>\n",
       "      <td>66000</td>\n",
       "      <td>60.0</td>\n",
       "      <td>Riverdale</td>\n",
       "      <td>Y</td>\n",
       "    </tr>\n",
       "    <tr>\n",
       "      <th>3</th>\n",
       "      <td>NHEF001006</td>\n",
       "      <td>Female</td>\n",
       "      <td>Yes</td>\n",
       "      <td>1</td>\n",
       "      <td>Own</td>\n",
       "      <td>No</td>\n",
       "      <td>2583</td>\n",
       "      <td>2358.0</td>\n",
       "      <td>120000</td>\n",
       "      <td>60.0</td>\n",
       "      <td>Riverdale</td>\n",
       "      <td>Y</td>\n",
       "    </tr>\n",
       "    <tr>\n",
       "      <th>4</th>\n",
       "      <td>NHEF001008</td>\n",
       "      <td>Female</td>\n",
       "      <td>No</td>\n",
       "      <td>0</td>\n",
       "      <td>Rent</td>\n",
       "      <td>No</td>\n",
       "      <td>6000</td>\n",
       "      <td>0.0</td>\n",
       "      <td>141000</td>\n",
       "      <td>60.0</td>\n",
       "      <td>Riverdale</td>\n",
       "      <td>Y</td>\n",
       "    </tr>\n",
       "  </tbody>\n",
       "</table>\n",
       "</div>"
      ],
      "text/plain": [
       "           ID  Gender Married Dependents Rent_or_Own Self_Employed  Income  \\\n",
       "0  NHEF001002  Female      No          0        Rent            No    5849   \n",
       "1  NHEF001003    Male     Yes          2        Rent            No    6500   \n",
       "2  NHEF001005    Male      No          0        Rent           Yes    3000   \n",
       "3  NHEF001006  Female     Yes          1         Own            No    2583   \n",
       "4  NHEF001008  Female      No          0        Rent            No    6000   \n",
       "\n",
       "   CoapplicantIncome  Product_Amount  Loan_Duration_Months        Estate  \\\n",
       "0                0.0               0                  60.0     Riverdale   \n",
       "1             1508.0          128000                  60.0  Emerald Park   \n",
       "2                0.0           66000                  60.0     Riverdale   \n",
       "3             2358.0          120000                  60.0     Riverdale   \n",
       "4                0.0          141000                  60.0     Riverdale   \n",
       "\n",
       "  Any_other_debt  \n",
       "0              Y  \n",
       "1              Y  \n",
       "2              Y  \n",
       "3              Y  \n",
       "4              Y  "
      ]
     },
     "execution_count": 5,
     "metadata": {},
     "output_type": "execute_result"
    }
   ],
   "source": [
    "Attention_Needed=train.Attention_Needed\n",
    "train.drop('Attention_Needed',axis=1,inplace=True)\n",
    "test=pd.read_csv('C:/Users/hp/Desktop/Customer_Analysis/Test_Data.csv')\n",
    "ID=test.ID\n",
    "df=train.append(test)\n",
    "df.head()"
   ]
  },
  {
   "cell_type": "code",
   "execution_count": 6,
   "id": "c34294d2",
   "metadata": {},
   "outputs": [
    {
     "data": {
      "text/plain": [
       "(981, 12)"
      ]
     },
     "execution_count": 6,
     "metadata": {},
     "output_type": "execute_result"
    }
   ],
   "source": [
    "df.shape"
   ]
  },
  {
   "cell_type": "code",
   "execution_count": 7,
   "id": "afddb18f",
   "metadata": {},
   "outputs": [
    {
     "data": {
      "text/plain": [
       "<AxesSubplot:>"
      ]
     },
     "execution_count": 7,
     "metadata": {},
     "output_type": "execute_result"
    },
    {
     "data": {
      "image/png": "[encoded data removed]",
      "text/plain": [
       "<Figure size 648x648 with 2 Axes>"
      ]
     },
     "metadata": {
      "needs_background": "light"
     },
     "output_type": "display_data"
    }
   ],
   "source": [
    "%matplotlib inline \n",
    "corrmat=df.corr()\n",
    "f,ax=plt.subplots(figsize=(9,9))\n",
    "sns.heatmap(corrmat,vmax=.8,square=True)"
   ]
  },
  {
   "cell_type": "markdown",
   "id": "f17a5873",
   "metadata": {},
   "source": [
    "# Encoding"
   ]
  },
  {
   "cell_type": "code",
   "execution_count": 9,
   "id": "61b4a634",
   "metadata": {},
   "outputs": [
    {
     "data": {
      "text/plain": [
       "1.0    752\n",
       "0.0    205\n",
       "Name: Gender, dtype: int64"
      ]
     },
     "execution_count": 9,
     "metadata": {},
     "output_type": "execute_result"
    }
   ],
   "source": [
    "## Gender\n",
    "df.Gender=df.Gender.map({'Male':1,'Female':0})\n",
    "df.Gender.value_counts()"
   ]
  },
  {
   "cell_type": "code",
   "execution_count": 10,
   "id": "217df780",
   "metadata": {},
   "outputs": [
    {
     "data": {
      "text/plain": [
       "1.0    754\n",
       "0.0    148\n",
       "Name: Any_other_debt, dtype: int64"
      ]
     },
     "execution_count": 10,
     "metadata": {},
     "output_type": "execute_result"
    }
   ],
   "source": [
    "## Any other debt\n",
    "df.Any_other_debt=df.Any_other_debt.map({'Y':1,'N':0})\n",
    "df.Any_other_debt.value_counts()"
   ]
  },
  {
   "cell_type": "code",
   "execution_count": 11,
   "id": "4b2e652d",
   "metadata": {},
   "outputs": [
    {
     "data": {
      "text/plain": [
       "<AxesSubplot:>"
      ]
     },
     "execution_count": 11,
     "metadata": {},
     "output_type": "execute_result"
    },
    {
     "data": {
      "image/png": "[encoded data removed]",
      "text/plain": [
       "<Figure size 648x648 with 2 Axes>"
      ]
     },
     "metadata": {
      "needs_background": "light"
     },
     "output_type": "display_data"
    }
   ],
   "source": [
    "## correlations\n",
    "corrmat=df.corr()\n",
    "f,ax=plt.subplots(figsize=(9,9))\n",
    "sns.heatmap(corrmat,vmax=.8,square=True)"
   ]
  },
  {
   "cell_type": "code",
   "execution_count": 12,
   "id": "eddc68b7",
   "metadata": {},
   "outputs": [
    {
     "data": {
      "text/html": [
       "<div>\n",
       "<style scoped>\n",
       "    .dataframe tbody tr th:only-of-type {\n",
       "        vertical-align: middle;\n",
       "    }\n",
       "\n",
       "    .dataframe tbody tr th {\n",
       "        vertical-align: top;\n",
       "    }\n",
       "\n",
       "    .dataframe thead th {\n",
       "        text-align: right;\n",
       "    }\n",
       "</style>\n",
       "<table border=\"1\" class=\"dataframe\">\n",
       "  <thead>\n",
       "    <tr style=\"text-align: right;\">\n",
       "      <th></th>\n",
       "      <th>ID</th>\n",
       "      <th>Gender</th>\n",
       "      <th>Married</th>\n",
       "      <th>Dependents</th>\n",
       "      <th>Rent_or_Own</th>\n",
       "      <th>Self_Employed</th>\n",
       "      <th>Income</th>\n",
       "      <th>CoapplicantIncome</th>\n",
       "      <th>Product_Amount</th>\n",
       "      <th>Loan_Duration_Months</th>\n",
       "      <th>Estate</th>\n",
       "      <th>Any_other_debt</th>\n",
       "    </tr>\n",
       "  </thead>\n",
       "  <tbody>\n",
       "    <tr>\n",
       "      <th>0</th>\n",
       "      <td>NHEF001002</td>\n",
       "      <td>0.0</td>\n",
       "      <td>0.0</td>\n",
       "      <td>0</td>\n",
       "      <td>Rent</td>\n",
       "      <td>No</td>\n",
       "      <td>5849</td>\n",
       "      <td>0.0</td>\n",
       "      <td>0</td>\n",
       "      <td>60.0</td>\n",
       "      <td>Riverdale</td>\n",
       "      <td>1.0</td>\n",
       "    </tr>\n",
       "    <tr>\n",
       "      <th>1</th>\n",
       "      <td>NHEF001003</td>\n",
       "      <td>1.0</td>\n",
       "      <td>1.0</td>\n",
       "      <td>2</td>\n",
       "      <td>Rent</td>\n",
       "      <td>No</td>\n",
       "      <td>6500</td>\n",
       "      <td>1508.0</td>\n",
       "      <td>128000</td>\n",
       "      <td>60.0</td>\n",
       "      <td>Emerald Park</td>\n",
       "      <td>1.0</td>\n",
       "    </tr>\n",
       "    <tr>\n",
       "      <th>2</th>\n",
       "      <td>NHEF001005</td>\n",
       "      <td>1.0</td>\n",
       "      <td>0.0</td>\n",
       "      <td>0</td>\n",
       "      <td>Rent</td>\n",
       "      <td>Yes</td>\n",
       "      <td>3000</td>\n",
       "      <td>0.0</td>\n",
       "      <td>66000</td>\n",
       "      <td>60.0</td>\n",
       "      <td>Riverdale</td>\n",
       "      <td>1.0</td>\n",
       "    </tr>\n",
       "    <tr>\n",
       "      <th>3</th>\n",
       "      <td>NHEF001006</td>\n",
       "      <td>0.0</td>\n",
       "      <td>1.0</td>\n",
       "      <td>1</td>\n",
       "      <td>Own</td>\n",
       "      <td>No</td>\n",
       "      <td>2583</td>\n",
       "      <td>2358.0</td>\n",
       "      <td>120000</td>\n",
       "      <td>60.0</td>\n",
       "      <td>Riverdale</td>\n",
       "      <td>1.0</td>\n",
       "    </tr>\n",
       "    <tr>\n",
       "      <th>4</th>\n",
       "      <td>NHEF001008</td>\n",
       "      <td>0.0</td>\n",
       "      <td>0.0</td>\n",
       "      <td>0</td>\n",
       "      <td>Rent</td>\n",
       "      <td>No</td>\n",
       "      <td>6000</td>\n",
       "      <td>0.0</td>\n",
       "      <td>141000</td>\n",
       "      <td>60.0</td>\n",
       "      <td>Riverdale</td>\n",
       "      <td>1.0</td>\n",
       "    </tr>\n",
       "  </tbody>\n",
       "</table>\n",
       "</div>"
      ],
      "text/plain": [
       "           ID  Gender  Married Dependents Rent_or_Own Self_Employed  Income  \\\n",
       "0  NHEF001002     0.0      0.0          0        Rent            No    5849   \n",
       "1  NHEF001003     1.0      1.0          2        Rent            No    6500   \n",
       "2  NHEF001005     1.0      0.0          0        Rent           Yes    3000   \n",
       "3  NHEF001006     0.0      1.0          1         Own            No    2583   \n",
       "4  NHEF001008     0.0      0.0          0        Rent            No    6000   \n",
       "\n",
       "   CoapplicantIncome  Product_Amount  Loan_Duration_Months        Estate  \\\n",
       "0                0.0               0                  60.0     Riverdale   \n",
       "1             1508.0          128000                  60.0  Emerald Park   \n",
       "2                0.0           66000                  60.0     Riverdale   \n",
       "3             2358.0          120000                  60.0     Riverdale   \n",
       "4                0.0          141000                  60.0     Riverdale   \n",
       "\n",
       "   Any_other_debt  \n",
       "0             1.0  \n",
       "1             1.0  \n",
       "2             1.0  \n",
       "3             1.0  \n",
       "4             1.0  "
      ]
     },
     "execution_count": 12,
     "metadata": {},
     "output_type": "execute_result"
    }
   ],
   "source": [
    "## Labelling 0 & 1 for Marrital status\n",
    "df.Married=df.Married.map({'Yes':1,'No':0})\n",
    "df.head()"
   ]
  },
  {
   "cell_type": "code",
   "execution_count": 13,
   "id": "8aa25a40",
   "metadata": {},
   "outputs": [
    {
     "data": {
      "text/plain": [
       "1.0    630\n",
       "0.0    348\n",
       "Name: Married, dtype: int64"
      ]
     },
     "execution_count": 13,
     "metadata": {},
     "output_type": "execute_result"
    }
   ],
   "source": [
    "df.Married.value_counts()"
   ]
  },
  {
   "cell_type": "code",
   "execution_count": 14,
   "id": "61197301",
   "metadata": {},
   "outputs": [],
   "source": [
    "## Labelling 0 & 1 for Dependents\n",
    "df.Dependents=df.Dependents.map({'0':0,'1':1,'2':2,'3+':3})"
   ]
  },
  {
   "cell_type": "code",
   "execution_count": 15,
   "id": "92e27040",
   "metadata": {},
   "outputs": [
    {
     "data": {
      "text/plain": [
       "0.0    530\n",
       "1.0    165\n",
       "2.0    160\n",
       "3.0    103\n",
       "Name: Dependents, dtype: int64"
      ]
     },
     "execution_count": 15,
     "metadata": {},
     "output_type": "execute_result"
    }
   ],
   "source": [
    "df.Dependents.value_counts()"
   ]
  },
  {
   "cell_type": "code",
   "execution_count": 16,
   "id": "785ad1da",
   "metadata": {},
   "outputs": [
    {
     "data": {
      "text/plain": [
       "<AxesSubplot:>"
      ]
     },
     "execution_count": 16,
     "metadata": {},
     "output_type": "execute_result"
    },
    {
     "data": {
      "image/png": "[encoded data removed]",
      "text/plain": [
       "<Figure size 648x648 with 2 Axes>"
      ]
     },
     "metadata": {
      "needs_background": "light"
     },
     "output_type": "display_data"
    }
   ],
   "source": [
    "## correlations\n",
    "corrmat=df.corr()\n",
    "f,ax=plt.subplots(figsize=(9,9))\n",
    "sns.heatmap(corrmat,vmax=.8,square=True)"
   ]
  },
  {
   "cell_type": "code",
   "execution_count": 17,
   "id": "3a41dd0f",
   "metadata": {},
   "outputs": [
    {
     "data": {
      "text/html": [
       "<div>\n",
       "<style scoped>\n",
       "    .dataframe tbody tr th:only-of-type {\n",
       "        vertical-align: middle;\n",
       "    }\n",
       "\n",
       "    .dataframe tbody tr th {\n",
       "        vertical-align: top;\n",
       "    }\n",
       "\n",
       "    .dataframe thead th {\n",
       "        text-align: right;\n",
       "    }\n",
       "</style>\n",
       "<table border=\"1\" class=\"dataframe\">\n",
       "  <thead>\n",
       "    <tr style=\"text-align: right;\">\n",
       "      <th></th>\n",
       "      <th>ID</th>\n",
       "      <th>Gender</th>\n",
       "      <th>Married</th>\n",
       "      <th>Dependents</th>\n",
       "      <th>Rent_or_Own</th>\n",
       "      <th>Self_Employed</th>\n",
       "      <th>Income</th>\n",
       "      <th>CoapplicantIncome</th>\n",
       "      <th>Plot_Price</th>\n",
       "      <th>Loan_Duration_Months</th>\n",
       "      <th>Estate</th>\n",
       "      <th>Any_other_debt</th>\n",
       "    </tr>\n",
       "  </thead>\n",
       "  <tbody>\n",
       "    <tr>\n",
       "      <th>0</th>\n",
       "      <td>NHEF001002</td>\n",
       "      <td>0.0</td>\n",
       "      <td>0.0</td>\n",
       "      <td>0.0</td>\n",
       "      <td>Rent</td>\n",
       "      <td>No</td>\n",
       "      <td>5849</td>\n",
       "      <td>0.0</td>\n",
       "      <td>0</td>\n",
       "      <td>60.0</td>\n",
       "      <td>Riverdale</td>\n",
       "      <td>1.0</td>\n",
       "    </tr>\n",
       "    <tr>\n",
       "      <th>1</th>\n",
       "      <td>NHEF001003</td>\n",
       "      <td>1.0</td>\n",
       "      <td>1.0</td>\n",
       "      <td>2.0</td>\n",
       "      <td>Rent</td>\n",
       "      <td>No</td>\n",
       "      <td>6500</td>\n",
       "      <td>1508.0</td>\n",
       "      <td>128000</td>\n",
       "      <td>60.0</td>\n",
       "      <td>Emerald Park</td>\n",
       "      <td>1.0</td>\n",
       "    </tr>\n",
       "    <tr>\n",
       "      <th>2</th>\n",
       "      <td>NHEF001005</td>\n",
       "      <td>1.0</td>\n",
       "      <td>0.0</td>\n",
       "      <td>0.0</td>\n",
       "      <td>Rent</td>\n",
       "      <td>Yes</td>\n",
       "      <td>3000</td>\n",
       "      <td>0.0</td>\n",
       "      <td>66000</td>\n",
       "      <td>60.0</td>\n",
       "      <td>Riverdale</td>\n",
       "      <td>1.0</td>\n",
       "    </tr>\n",
       "    <tr>\n",
       "      <th>3</th>\n",
       "      <td>NHEF001006</td>\n",
       "      <td>0.0</td>\n",
       "      <td>1.0</td>\n",
       "      <td>1.0</td>\n",
       "      <td>Own</td>\n",
       "      <td>No</td>\n",
       "      <td>2583</td>\n",
       "      <td>2358.0</td>\n",
       "      <td>120000</td>\n",
       "      <td>60.0</td>\n",
       "      <td>Riverdale</td>\n",
       "      <td>1.0</td>\n",
       "    </tr>\n",
       "    <tr>\n",
       "      <th>4</th>\n",
       "      <td>NHEF001008</td>\n",
       "      <td>0.0</td>\n",
       "      <td>0.0</td>\n",
       "      <td>0.0</td>\n",
       "      <td>Rent</td>\n",
       "      <td>No</td>\n",
       "      <td>6000</td>\n",
       "      <td>0.0</td>\n",
       "      <td>141000</td>\n",
       "      <td>60.0</td>\n",
       "      <td>Riverdale</td>\n",
       "      <td>1.0</td>\n",
       "    </tr>\n",
       "  </tbody>\n",
       "</table>\n",
       "</div>"
      ],
      "text/plain": [
       "           ID  Gender  Married  Dependents Rent_or_Own Self_Employed  Income  \\\n",
       "0  NHEF001002     0.0      0.0         0.0        Rent            No    5849   \n",
       "1  NHEF001003     1.0      1.0         2.0        Rent            No    6500   \n",
       "2  NHEF001005     1.0      0.0         0.0        Rent           Yes    3000   \n",
       "3  NHEF001006     0.0      1.0         1.0         Own            No    2583   \n",
       "4  NHEF001008     0.0      0.0         0.0        Rent            No    6000   \n",
       "\n",
       "   CoapplicantIncome  Plot_Price  Loan_Duration_Months        Estate  \\\n",
       "0                0.0           0                  60.0     Riverdale   \n",
       "1             1508.0      128000                  60.0  Emerald Park   \n",
       "2                0.0       66000                  60.0     Riverdale   \n",
       "3             2358.0      120000                  60.0     Riverdale   \n",
       "4                0.0      141000                  60.0     Riverdale   \n",
       "\n",
       "   Any_other_debt  \n",
       "0             1.0  \n",
       "1             1.0  \n",
       "2             1.0  \n",
       "3             1.0  \n",
       "4             1.0  "
      ]
     },
     "execution_count": 17,
     "metadata": {},
     "output_type": "execute_result"
    }
   ],
   "source": [
    "df.rename(columns = {'Product_Amount':'Plot_Price'}, inplace = True)\n",
    "df.head()"
   ]
  },
  {
   "cell_type": "code",
   "execution_count": 19,
   "id": "8bde5513",
   "metadata": {},
   "outputs": [],
   "source": [
    "## Labelling 0 & 1 for Rent or Own\n",
    "df.Rent_or_Own=df.Rent_or_Own.map({'Rent':1,'Own':0})"
   ]
  },
  {
   "cell_type": "code",
   "execution_count": 20,
   "id": "a4e7dc93",
   "metadata": {},
   "outputs": [
    {
     "data": {
      "text/plain": [
       "1    762\n",
       "0    219\n",
       "Name: Rent_or_Own, dtype: int64"
      ]
     },
     "execution_count": 20,
     "metadata": {},
     "output_type": "execute_result"
    }
   ],
   "source": [
    "df.Rent_or_Own.value_counts()"
   ]
  },
  {
   "cell_type": "code",
   "execution_count": 21,
   "id": "22edf946",
   "metadata": {},
   "outputs": [
    {
     "data": {
      "text/plain": [
       "1.0    754\n",
       "0.0    148\n",
       "Name: Any_other_debt, dtype: int64"
      ]
     },
     "execution_count": 21,
     "metadata": {},
     "output_type": "execute_result"
    }
   ],
   "source": [
    "df.Any_other_debt.value_counts()"
   ]
  },
  {
   "cell_type": "code",
   "execution_count": 22,
   "id": "a1f1a6e2",
   "metadata": {},
   "outputs": [],
   "source": [
    "## Labelling 0 & 1 for Employment status\n",
    "df.Self_Employed=df.Self_Employed.map({'Yes':1,'No':0})"
   ]
  },
  {
   "cell_type": "code",
   "execution_count": 23,
   "id": "6dec93b5",
   "metadata": {},
   "outputs": [
    {
     "data": {
      "text/plain": [
       "Chibombo        350\n",
       "Riverdale       341\n",
       "Emerald Park    290\n",
       "Name: Estate, dtype: int64"
      ]
     },
     "execution_count": 23,
     "metadata": {},
     "output_type": "execute_result"
    }
   ],
   "source": [
    "df.Estate.value_counts()"
   ]
  },
  {
   "cell_type": "code",
   "execution_count": 24,
   "id": "046c3846",
   "metadata": {},
   "outputs": [],
   "source": [
    "## Labelling 0 & 1 for Estate Selections\n",
    "df.Estate=df.Estate.map({'Riverdale':0,'Chibombo':1,'Emerald Park':2})"
   ]
  },
  {
   "cell_type": "code",
   "execution_count": 25,
   "id": "b89b208c",
   "metadata": {},
   "outputs": [
    {
     "data": {
      "text/plain": [
       "<AxesSubplot:>"
      ]
     },
     "execution_count": 25,
     "metadata": {},
     "output_type": "execute_result"
    },
    {
     "data": {
      "image/png": "[encoded data removed]",
      "text/plain": [
       "<Figure size 648x648 with 2 Axes>"
      ]
     },
     "metadata": {
      "needs_background": "light"
     },
     "output_type": "display_data"
    }
   ],
   "source": [
    "corrmat=df.corr()\n",
    "f,ax=plt.subplots(figsize=(9,9))\n",
    "sns.heatmap(corrmat,vmax=.8,square=True)"
   ]
  },
  {
   "cell_type": "code",
   "execution_count": 26,
   "id": "eb077eb7",
   "metadata": {},
   "outputs": [
    {
     "data": {
      "text/html": [
       "<div>\n",
       "<style scoped>\n",
       "    .dataframe tbody tr th:only-of-type {\n",
       "        vertical-align: middle;\n",
       "    }\n",
       "\n",
       "    .dataframe tbody tr th {\n",
       "        vertical-align: top;\n",
       "    }\n",
       "\n",
       "    .dataframe thead th {\n",
       "        text-align: right;\n",
       "    }\n",
       "</style>\n",
       "<table border=\"1\" class=\"dataframe\">\n",
       "  <thead>\n",
       "    <tr style=\"text-align: right;\">\n",
       "      <th></th>\n",
       "      <th>ID</th>\n",
       "      <th>Gender</th>\n",
       "      <th>Married</th>\n",
       "      <th>Dependents</th>\n",
       "      <th>Rent_or_Own</th>\n",
       "      <th>Self_Employed</th>\n",
       "      <th>Income</th>\n",
       "      <th>CoapplicantIncome</th>\n",
       "      <th>Plot_Price</th>\n",
       "      <th>Loan_Duration_Months</th>\n",
       "      <th>Estate</th>\n",
       "      <th>Any_other_debt</th>\n",
       "    </tr>\n",
       "  </thead>\n",
       "  <tbody>\n",
       "    <tr>\n",
       "      <th>0</th>\n",
       "      <td>NHEF001002</td>\n",
       "      <td>0.0</td>\n",
       "      <td>0.0</td>\n",
       "      <td>0.0</td>\n",
       "      <td>1</td>\n",
       "      <td>0.0</td>\n",
       "      <td>5849</td>\n",
       "      <td>0.0</td>\n",
       "      <td>0</td>\n",
       "      <td>60.0</td>\n",
       "      <td>0</td>\n",
       "      <td>1.0</td>\n",
       "    </tr>\n",
       "    <tr>\n",
       "      <th>1</th>\n",
       "      <td>NHEF001003</td>\n",
       "      <td>1.0</td>\n",
       "      <td>1.0</td>\n",
       "      <td>2.0</td>\n",
       "      <td>1</td>\n",
       "      <td>0.0</td>\n",
       "      <td>6500</td>\n",
       "      <td>1508.0</td>\n",
       "      <td>128000</td>\n",
       "      <td>60.0</td>\n",
       "      <td>2</td>\n",
       "      <td>1.0</td>\n",
       "    </tr>\n",
       "    <tr>\n",
       "      <th>2</th>\n",
       "      <td>NHEF001005</td>\n",
       "      <td>1.0</td>\n",
       "      <td>0.0</td>\n",
       "      <td>0.0</td>\n",
       "      <td>1</td>\n",
       "      <td>1.0</td>\n",
       "      <td>3000</td>\n",
       "      <td>0.0</td>\n",
       "      <td>66000</td>\n",
       "      <td>60.0</td>\n",
       "      <td>0</td>\n",
       "      <td>1.0</td>\n",
       "    </tr>\n",
       "    <tr>\n",
       "      <th>3</th>\n",
       "      <td>NHEF001006</td>\n",
       "      <td>0.0</td>\n",
       "      <td>1.0</td>\n",
       "      <td>1.0</td>\n",
       "      <td>0</td>\n",
       "      <td>0.0</td>\n",
       "      <td>2583</td>\n",
       "      <td>2358.0</td>\n",
       "      <td>120000</td>\n",
       "      <td>60.0</td>\n",
       "      <td>0</td>\n",
       "      <td>1.0</td>\n",
       "    </tr>\n",
       "    <tr>\n",
       "      <th>4</th>\n",
       "      <td>NHEF001008</td>\n",
       "      <td>0.0</td>\n",
       "      <td>0.0</td>\n",
       "      <td>0.0</td>\n",
       "      <td>1</td>\n",
       "      <td>0.0</td>\n",
       "      <td>6000</td>\n",
       "      <td>0.0</td>\n",
       "      <td>141000</td>\n",
       "      <td>60.0</td>\n",
       "      <td>0</td>\n",
       "      <td>1.0</td>\n",
       "    </tr>\n",
       "  </tbody>\n",
       "</table>\n",
       "</div>"
      ],
      "text/plain": [
       "           ID  Gender  Married  Dependents  Rent_or_Own  Self_Employed  \\\n",
       "0  NHEF001002     0.0      0.0         0.0            1            0.0   \n",
       "1  NHEF001003     1.0      1.0         2.0            1            0.0   \n",
       "2  NHEF001005     1.0      0.0         0.0            1            1.0   \n",
       "3  NHEF001006     0.0      1.0         1.0            0            0.0   \n",
       "4  NHEF001008     0.0      0.0         0.0            1            0.0   \n",
       "\n",
       "   Income  CoapplicantIncome  Plot_Price  Loan_Duration_Months  Estate  \\\n",
       "0    5849                0.0           0                  60.0       0   \n",
       "1    6500             1508.0      128000                  60.0       2   \n",
       "2    3000                0.0       66000                  60.0       0   \n",
       "3    2583             2358.0      120000                  60.0       0   \n",
       "4    6000                0.0      141000                  60.0       0   \n",
       "\n",
       "   Any_other_debt  \n",
       "0             1.0  \n",
       "1             1.0  \n",
       "2             1.0  \n",
       "3             1.0  \n",
       "4             1.0  "
      ]
     },
     "execution_count": 26,
     "metadata": {},
     "output_type": "execute_result"
    }
   ],
   "source": [
    "df.head()"
   ]
  },
  {
   "cell_type": "markdown",
   "id": "c0d35fd1",
   "metadata": {},
   "source": [
    "## Missing Values"
   ]
  },
  {
   "cell_type": "code",
   "execution_count": 27,
   "id": "b7b3c25e",
   "metadata": {},
   "outputs": [],
   "source": [
    "df.Married.fillna(np.random.randint(0,2),inplace=True)"
   ]
  },
  {
   "cell_type": "code",
   "execution_count": 28,
   "id": "b97699a1",
   "metadata": {},
   "outputs": [],
   "source": [
    "df.Any_other_debt.fillna(np.random.randint(0,2),inplace=True)"
   ]
  },
  {
   "cell_type": "code",
   "execution_count": 29,
   "id": "1c02a366",
   "metadata": {},
   "outputs": [],
   "source": [
    "## Fill empty plot price with median instead of deleting\n",
    "df.Plot_Price.fillna(df.Plot_Price.median(),inplace=True)"
   ]
  },
  {
   "cell_type": "code",
   "execution_count": 30,
   "id": "9506fc99",
   "metadata": {},
   "outputs": [],
   "source": [
    "## Fill empty Durations with mean\n",
    "df.Loan_Duration_Months.fillna(df.Loan_Duration_Months.mean(),inplace=True)"
   ]
  },
  {
   "cell_type": "code",
   "execution_count": 31,
   "id": "110b1938",
   "metadata": {},
   "outputs": [
    {
     "data": {
      "text/plain": [
       "ID                       0\n",
       "Gender                  24\n",
       "Married                  0\n",
       "Dependents              23\n",
       "Rent_or_Own              0\n",
       "Self_Employed           55\n",
       "Income                   0\n",
       "CoapplicantIncome        0\n",
       "Plot_Price               0\n",
       "Loan_Duration_Months     0\n",
       "Estate                   0\n",
       "Any_other_debt           0\n",
       "dtype: int64"
      ]
     },
     "execution_count": 31,
     "metadata": {},
     "output_type": "execute_result"
    }
   ],
   "source": [
    "df.isnull().sum()"
   ]
  },
  {
   "cell_type": "code",
   "execution_count": 32,
   "id": "077b4534",
   "metadata": {},
   "outputs": [],
   "source": [
    "## Filling Gender with random number between 0-2\n",
    "from random import randint \n",
    "df.Gender.fillna(np.random.randint(0,2),inplace=True)"
   ]
  },
  {
   "cell_type": "code",
   "execution_count": 33,
   "id": "050e45d8",
   "metadata": {},
   "outputs": [
    {
     "data": {
      "text/plain": [
       "1.0    752\n",
       "0.0    229\n",
       "Name: Gender, dtype: int64"
      ]
     },
     "execution_count": 33,
     "metadata": {},
     "output_type": "execute_result"
    }
   ],
   "source": [
    "df.Gender.value_counts()"
   ]
  },
  {
   "cell_type": "code",
   "execution_count": 34,
   "id": "10a1ead5",
   "metadata": {},
   "outputs": [],
   "source": [
    "## Fill Dependents with median\n",
    "df.Dependents.fillna(df.Dependents.median(),inplace=True)"
   ]
  },
  {
   "cell_type": "code",
   "execution_count": 35,
   "id": "a0a19df6",
   "metadata": {},
   "outputs": [],
   "source": [
    "df.Self_Employed.fillna(np.random.randint(0,2),inplace=True)"
   ]
  },
  {
   "cell_type": "code",
   "execution_count": 36,
   "id": "4b415d1a",
   "metadata": {},
   "outputs": [
    {
     "data": {
      "text/plain": [
       "ID                      0\n",
       "Gender                  0\n",
       "Married                 0\n",
       "Dependents              0\n",
       "Rent_or_Own             0\n",
       "Self_Employed           0\n",
       "Income                  0\n",
       "CoapplicantIncome       0\n",
       "Plot_Price              0\n",
       "Loan_Duration_Months    0\n",
       "Estate                  0\n",
       "Any_other_debt          0\n",
       "dtype: int64"
      ]
     },
     "execution_count": 36,
     "metadata": {},
     "output_type": "execute_result"
    }
   ],
   "source": [
    "df.isnull().sum()"
   ]
  },
  {
   "cell_type": "code",
   "execution_count": 37,
   "id": "5790869d",
   "metadata": {},
   "outputs": [
    {
     "data": {
      "text/html": [
       "<div>\n",
       "<style scoped>\n",
       "    .dataframe tbody tr th:only-of-type {\n",
       "        vertical-align: middle;\n",
       "    }\n",
       "\n",
       "    .dataframe tbody tr th {\n",
       "        vertical-align: top;\n",
       "    }\n",
       "\n",
       "    .dataframe thead th {\n",
       "        text-align: right;\n",
       "    }\n",
       "</style>\n",
       "<table border=\"1\" class=\"dataframe\">\n",
       "  <thead>\n",
       "    <tr style=\"text-align: right;\">\n",
       "      <th></th>\n",
       "      <th>ID</th>\n",
       "      <th>Gender</th>\n",
       "      <th>Married</th>\n",
       "      <th>Dependents</th>\n",
       "      <th>Rent_or_Own</th>\n",
       "      <th>Self_Employed</th>\n",
       "      <th>Income</th>\n",
       "      <th>CoapplicantIncome</th>\n",
       "      <th>Plot_Price</th>\n",
       "      <th>Loan_Duration_Months</th>\n",
       "      <th>Estate</th>\n",
       "      <th>Any_other_debt</th>\n",
       "    </tr>\n",
       "  </thead>\n",
       "  <tbody>\n",
       "    <tr>\n",
       "      <th>0</th>\n",
       "      <td>NHEF001002</td>\n",
       "      <td>0.0</td>\n",
       "      <td>0.0</td>\n",
       "      <td>0.0</td>\n",
       "      <td>1</td>\n",
       "      <td>0.0</td>\n",
       "      <td>5849</td>\n",
       "      <td>0.0</td>\n",
       "      <td>0</td>\n",
       "      <td>60.0</td>\n",
       "      <td>0</td>\n",
       "      <td>1.0</td>\n",
       "    </tr>\n",
       "    <tr>\n",
       "      <th>1</th>\n",
       "      <td>NHEF001003</td>\n",
       "      <td>1.0</td>\n",
       "      <td>1.0</td>\n",
       "      <td>2.0</td>\n",
       "      <td>1</td>\n",
       "      <td>0.0</td>\n",
       "      <td>6500</td>\n",
       "      <td>1508.0</td>\n",
       "      <td>128000</td>\n",
       "      <td>60.0</td>\n",
       "      <td>2</td>\n",
       "      <td>1.0</td>\n",
       "    </tr>\n",
       "    <tr>\n",
       "      <th>2</th>\n",
       "      <td>NHEF001005</td>\n",
       "      <td>1.0</td>\n",
       "      <td>0.0</td>\n",
       "      <td>0.0</td>\n",
       "      <td>1</td>\n",
       "      <td>1.0</td>\n",
       "      <td>3000</td>\n",
       "      <td>0.0</td>\n",
       "      <td>66000</td>\n",
       "      <td>60.0</td>\n",
       "      <td>0</td>\n",
       "      <td>1.0</td>\n",
       "    </tr>\n",
       "    <tr>\n",
       "      <th>3</th>\n",
       "      <td>NHEF001006</td>\n",
       "      <td>0.0</td>\n",
       "      <td>1.0</td>\n",
       "      <td>1.0</td>\n",
       "      <td>0</td>\n",
       "      <td>0.0</td>\n",
       "      <td>2583</td>\n",
       "      <td>2358.0</td>\n",
       "      <td>120000</td>\n",
       "      <td>60.0</td>\n",
       "      <td>0</td>\n",
       "      <td>1.0</td>\n",
       "    </tr>\n",
       "    <tr>\n",
       "      <th>4</th>\n",
       "      <td>NHEF001008</td>\n",
       "      <td>0.0</td>\n",
       "      <td>0.0</td>\n",
       "      <td>0.0</td>\n",
       "      <td>1</td>\n",
       "      <td>0.0</td>\n",
       "      <td>6000</td>\n",
       "      <td>0.0</td>\n",
       "      <td>141000</td>\n",
       "      <td>60.0</td>\n",
       "      <td>0</td>\n",
       "      <td>1.0</td>\n",
       "    </tr>\n",
       "  </tbody>\n",
       "</table>\n",
       "</div>"
      ],
      "text/plain": [
       "           ID  Gender  Married  Dependents  Rent_or_Own  Self_Employed  \\\n",
       "0  NHEF001002     0.0      0.0         0.0            1            0.0   \n",
       "1  NHEF001003     1.0      1.0         2.0            1            0.0   \n",
       "2  NHEF001005     1.0      0.0         0.0            1            1.0   \n",
       "3  NHEF001006     0.0      1.0         1.0            0            0.0   \n",
       "4  NHEF001008     0.0      0.0         0.0            1            0.0   \n",
       "\n",
       "   Income  CoapplicantIncome  Plot_Price  Loan_Duration_Months  Estate  \\\n",
       "0    5849                0.0           0                  60.0       0   \n",
       "1    6500             1508.0      128000                  60.0       2   \n",
       "2    3000                0.0       66000                  60.0       0   \n",
       "3    2583             2358.0      120000                  60.0       0   \n",
       "4    6000                0.0      141000                  60.0       0   \n",
       "\n",
       "   Any_other_debt  \n",
       "0             1.0  \n",
       "1             1.0  \n",
       "2             1.0  \n",
       "3             1.0  \n",
       "4             1.0  "
      ]
     },
     "execution_count": 37,
     "metadata": {},
     "output_type": "execute_result"
    }
   ],
   "source": [
    "df.head()"
   ]
  },
  {
   "cell_type": "code",
   "execution_count": 38,
   "id": "d657a45f",
   "metadata": {},
   "outputs": [],
   "source": [
    "## No need for ID column for model\n",
    "df.drop('ID',inplace=True,axis=1)"
   ]
  },
  {
   "cell_type": "code",
   "execution_count": 39,
   "id": "055041ba",
   "metadata": {},
   "outputs": [
    {
     "data": {
      "text/html": [
       "<div>\n",
       "<style scoped>\n",
       "    .dataframe tbody tr th:only-of-type {\n",
       "        vertical-align: middle;\n",
       "    }\n",
       "\n",
       "    .dataframe tbody tr th {\n",
       "        vertical-align: top;\n",
       "    }\n",
       "\n",
       "    .dataframe thead th {\n",
       "        text-align: right;\n",
       "    }\n",
       "</style>\n",
       "<table border=\"1\" class=\"dataframe\">\n",
       "  <thead>\n",
       "    <tr style=\"text-align: right;\">\n",
       "      <th></th>\n",
       "      <th>Gender</th>\n",
       "      <th>Married</th>\n",
       "      <th>Dependents</th>\n",
       "      <th>Rent_or_Own</th>\n",
       "      <th>Self_Employed</th>\n",
       "      <th>Income</th>\n",
       "      <th>CoapplicantIncome</th>\n",
       "      <th>Plot_Price</th>\n",
       "      <th>Loan_Duration_Months</th>\n",
       "      <th>Estate</th>\n",
       "      <th>Any_other_debt</th>\n",
       "    </tr>\n",
       "  </thead>\n",
       "  <tbody>\n",
       "    <tr>\n",
       "      <th>0</th>\n",
       "      <td>0.0</td>\n",
       "      <td>0.0</td>\n",
       "      <td>0.0</td>\n",
       "      <td>1</td>\n",
       "      <td>0.0</td>\n",
       "      <td>5849</td>\n",
       "      <td>0.0</td>\n",
       "      <td>0</td>\n",
       "      <td>60.0</td>\n",
       "      <td>0</td>\n",
       "      <td>1.0</td>\n",
       "    </tr>\n",
       "    <tr>\n",
       "      <th>1</th>\n",
       "      <td>1.0</td>\n",
       "      <td>1.0</td>\n",
       "      <td>2.0</td>\n",
       "      <td>1</td>\n",
       "      <td>0.0</td>\n",
       "      <td>6500</td>\n",
       "      <td>1508.0</td>\n",
       "      <td>128000</td>\n",
       "      <td>60.0</td>\n",
       "      <td>2</td>\n",
       "      <td>1.0</td>\n",
       "    </tr>\n",
       "    <tr>\n",
       "      <th>2</th>\n",
       "      <td>1.0</td>\n",
       "      <td>0.0</td>\n",
       "      <td>0.0</td>\n",
       "      <td>1</td>\n",
       "      <td>1.0</td>\n",
       "      <td>3000</td>\n",
       "      <td>0.0</td>\n",
       "      <td>66000</td>\n",
       "      <td>60.0</td>\n",
       "      <td>0</td>\n",
       "      <td>1.0</td>\n",
       "    </tr>\n",
       "    <tr>\n",
       "      <th>3</th>\n",
       "      <td>0.0</td>\n",
       "      <td>1.0</td>\n",
       "      <td>1.0</td>\n",
       "      <td>0</td>\n",
       "      <td>0.0</td>\n",
       "      <td>2583</td>\n",
       "      <td>2358.0</td>\n",
       "      <td>120000</td>\n",
       "      <td>60.0</td>\n",
       "      <td>0</td>\n",
       "      <td>1.0</td>\n",
       "    </tr>\n",
       "    <tr>\n",
       "      <th>4</th>\n",
       "      <td>0.0</td>\n",
       "      <td>0.0</td>\n",
       "      <td>0.0</td>\n",
       "      <td>1</td>\n",
       "      <td>0.0</td>\n",
       "      <td>6000</td>\n",
       "      <td>0.0</td>\n",
       "      <td>141000</td>\n",
       "      <td>60.0</td>\n",
       "      <td>0</td>\n",
       "      <td>1.0</td>\n",
       "    </tr>\n",
       "  </tbody>\n",
       "</table>\n",
       "</div>"
      ],
      "text/plain": [
       "   Gender  Married  Dependents  Rent_or_Own  Self_Employed  Income  \\\n",
       "0     0.0      0.0         0.0            1            0.0    5849   \n",
       "1     1.0      1.0         2.0            1            0.0    6500   \n",
       "2     1.0      0.0         0.0            1            1.0    3000   \n",
       "3     0.0      1.0         1.0            0            0.0    2583   \n",
       "4     0.0      0.0         0.0            1            0.0    6000   \n",
       "\n",
       "   CoapplicantIncome  Plot_Price  Loan_Duration_Months  Estate  Any_other_debt  \n",
       "0                0.0           0                  60.0       0             1.0  \n",
       "1             1508.0      128000                  60.0       2             1.0  \n",
       "2                0.0       66000                  60.0       0             1.0  \n",
       "3             2358.0      120000                  60.0       0             1.0  \n",
       "4                0.0      141000                  60.0       0             1.0  "
      ]
     },
     "execution_count": 39,
     "metadata": {},
     "output_type": "execute_result"
    }
   ],
   "source": [
    "df.head()"
   ]
  },
  {
   "cell_type": "markdown",
   "id": "0bf897a2",
   "metadata": {},
   "source": [
    "# Splitting Data into X and Y for testing"
   ]
  },
  {
   "cell_type": "code",
   "execution_count": 40,
   "id": "b796532f",
   "metadata": {},
   "outputs": [],
   "source": [
    "train_X=df.iloc[:614,] ## all the data in X (Train set)\n",
    "train_y=Attention_Needed  ## Attention Needed will be our Y"
   ]
  },
  {
   "cell_type": "code",
   "execution_count": 41,
   "id": "02cdac31",
   "metadata": {},
   "outputs": [],
   "source": [
    "from sklearn.model_selection import train_test_split\n",
    "train_X,test_X,train_y,test_y=train_test_split(train_X,train_y,random_state=0)"
   ]
  },
  {
   "cell_type": "code",
   "execution_count": 44,
   "id": "28344731",
   "metadata": {},
   "outputs": [
    {
     "data": {
      "text/html": [
       "<div>\n",
       "<style scoped>\n",
       "    .dataframe tbody tr th:only-of-type {\n",
       "        vertical-align: middle;\n",
       "    }\n",
       "\n",
       "    .dataframe tbody tr th {\n",
       "        vertical-align: top;\n",
       "    }\n",
       "\n",
       "    .dataframe thead th {\n",
       "        text-align: right;\n",
       "    }\n",
       "</style>\n",
       "<table border=\"1\" class=\"dataframe\">\n",
       "  <thead>\n",
       "    <tr style=\"text-align: right;\">\n",
       "      <th></th>\n",
       "      <th>Gender</th>\n",
       "      <th>Married</th>\n",
       "      <th>Dependents</th>\n",
       "      <th>Rent_or_Own</th>\n",
       "      <th>Self_Employed</th>\n",
       "      <th>Income</th>\n",
       "      <th>CoapplicantIncome</th>\n",
       "      <th>Plot_Price</th>\n",
       "      <th>Loan_Duration_Months</th>\n",
       "      <th>Estate</th>\n",
       "      <th>Any_other_debt</th>\n",
       "    </tr>\n",
       "  </thead>\n",
       "  <tbody>\n",
       "    <tr>\n",
       "      <th>46</th>\n",
       "      <td>1.0</td>\n",
       "      <td>1.0</td>\n",
       "      <td>1.0</td>\n",
       "      <td>1</td>\n",
       "      <td>0.0</td>\n",
       "      <td>5649</td>\n",
       "      <td>0.0</td>\n",
       "      <td>44000</td>\n",
       "      <td>60.0</td>\n",
       "      <td>0</td>\n",
       "      <td>1.0</td>\n",
       "    </tr>\n",
       "    <tr>\n",
       "      <th>272</th>\n",
       "      <td>1.0</td>\n",
       "      <td>0.0</td>\n",
       "      <td>0.0</td>\n",
       "      <td>1</td>\n",
       "      <td>0.0</td>\n",
       "      <td>2833</td>\n",
       "      <td>1857.0</td>\n",
       "      <td>126000</td>\n",
       "      <td>60.0</td>\n",
       "      <td>2</td>\n",
       "      <td>1.0</td>\n",
       "    </tr>\n",
       "    <tr>\n",
       "      <th>474</th>\n",
       "      <td>1.0</td>\n",
       "      <td>0.0</td>\n",
       "      <td>2.0</td>\n",
       "      <td>1</td>\n",
       "      <td>0.0</td>\n",
       "      <td>5532</td>\n",
       "      <td>4648.0</td>\n",
       "      <td>162000</td>\n",
       "      <td>60.0</td>\n",
       "      <td>2</td>\n",
       "      <td>1.0</td>\n",
       "    </tr>\n",
       "    <tr>\n",
       "      <th>382</th>\n",
       "      <td>0.0</td>\n",
       "      <td>0.0</td>\n",
       "      <td>0.0</td>\n",
       "      <td>1</td>\n",
       "      <td>0.0</td>\n",
       "      <td>6000</td>\n",
       "      <td>0.0</td>\n",
       "      <td>156000</td>\n",
       "      <td>60.0</td>\n",
       "      <td>0</td>\n",
       "      <td>1.0</td>\n",
       "    </tr>\n",
       "    <tr>\n",
       "      <th>283</th>\n",
       "      <td>0.0</td>\n",
       "      <td>0.0</td>\n",
       "      <td>0.0</td>\n",
       "      <td>1</td>\n",
       "      <td>0.0</td>\n",
       "      <td>2822</td>\n",
       "      <td>1666.0</td>\n",
       "      <td>54000</td>\n",
       "      <td>60.0</td>\n",
       "      <td>0</td>\n",
       "      <td>1.0</td>\n",
       "    </tr>\n",
       "  </tbody>\n",
       "</table>\n",
       "</div>"
      ],
      "text/plain": [
       "     Gender  Married  Dependents  Rent_or_Own  Self_Employed  Income  \\\n",
       "46      1.0      1.0         1.0            1            0.0    5649   \n",
       "272     1.0      0.0         0.0            1            0.0    2833   \n",
       "474     1.0      0.0         2.0            1            0.0    5532   \n",
       "382     0.0      0.0         0.0            1            0.0    6000   \n",
       "283     0.0      0.0         0.0            1            0.0    2822   \n",
       "\n",
       "     CoapplicantIncome  Plot_Price  Loan_Duration_Months  Estate  \\\n",
       "46                 0.0       44000                  60.0       0   \n",
       "272             1857.0      126000                  60.0       2   \n",
       "474             4648.0      162000                  60.0       2   \n",
       "382                0.0      156000                  60.0       0   \n",
       "283             1666.0       54000                  60.0       0   \n",
       "\n",
       "     Any_other_debt  \n",
       "46              1.0  \n",
       "272             1.0  \n",
       "474             1.0  \n",
       "382             1.0  \n",
       "283             1.0  "
      ]
     },
     "execution_count": 44,
     "metadata": {},
     "output_type": "execute_result"
    }
   ],
   "source": [
    "train_X.head()"
   ]
  },
  {
   "cell_type": "code",
   "execution_count": 45,
   "id": "3c7b4ea2",
   "metadata": {},
   "outputs": [
    {
     "data": {
      "text/html": [
       "<div>\n",
       "<style scoped>\n",
       "    .dataframe tbody tr th:only-of-type {\n",
       "        vertical-align: middle;\n",
       "    }\n",
       "\n",
       "    .dataframe tbody tr th {\n",
       "        vertical-align: top;\n",
       "    }\n",
       "\n",
       "    .dataframe thead th {\n",
       "        text-align: right;\n",
       "    }\n",
       "</style>\n",
       "<table border=\"1\" class=\"dataframe\">\n",
       "  <thead>\n",
       "    <tr style=\"text-align: right;\">\n",
       "      <th></th>\n",
       "      <th>Gender</th>\n",
       "      <th>Married</th>\n",
       "      <th>Dependents</th>\n",
       "      <th>Rent_or_Own</th>\n",
       "      <th>Self_Employed</th>\n",
       "      <th>Income</th>\n",
       "      <th>CoapplicantIncome</th>\n",
       "      <th>Plot_Price</th>\n",
       "      <th>Loan_Duration_Months</th>\n",
       "      <th>Estate</th>\n",
       "      <th>Any_other_debt</th>\n",
       "    </tr>\n",
       "  </thead>\n",
       "  <tbody>\n",
       "    <tr>\n",
       "      <th>454</th>\n",
       "      <td>1.0</td>\n",
       "      <td>0.0</td>\n",
       "      <td>0.0</td>\n",
       "      <td>1</td>\n",
       "      <td>1.0</td>\n",
       "      <td>7085</td>\n",
       "      <td>0.0</td>\n",
       "      <td>84000</td>\n",
       "      <td>60.0</td>\n",
       "      <td>1</td>\n",
       "      <td>1.0</td>\n",
       "    </tr>\n",
       "    <tr>\n",
       "      <th>52</th>\n",
       "      <td>0.0</td>\n",
       "      <td>0.0</td>\n",
       "      <td>0.0</td>\n",
       "      <td>1</td>\n",
       "      <td>0.0</td>\n",
       "      <td>4230</td>\n",
       "      <td>0.0</td>\n",
       "      <td>112000</td>\n",
       "      <td>60.0</td>\n",
       "      <td>1</td>\n",
       "      <td>1.0</td>\n",
       "    </tr>\n",
       "    <tr>\n",
       "      <th>536</th>\n",
       "      <td>1.0</td>\n",
       "      <td>1.0</td>\n",
       "      <td>0.0</td>\n",
       "      <td>1</td>\n",
       "      <td>0.0</td>\n",
       "      <td>6233</td>\n",
       "      <td>3906.0</td>\n",
       "      <td>324000</td>\n",
       "      <td>60.0</td>\n",
       "      <td>0</td>\n",
       "      <td>1.0</td>\n",
       "    </tr>\n",
       "    <tr>\n",
       "      <th>469</th>\n",
       "      <td>1.0</td>\n",
       "      <td>1.0</td>\n",
       "      <td>0.0</td>\n",
       "      <td>1</td>\n",
       "      <td>0.0</td>\n",
       "      <td>4333</td>\n",
       "      <td>2451.0</td>\n",
       "      <td>110000</td>\n",
       "      <td>60.0</td>\n",
       "      <td>0</td>\n",
       "      <td>1.0</td>\n",
       "    </tr>\n",
       "    <tr>\n",
       "      <th>55</th>\n",
       "      <td>1.0</td>\n",
       "      <td>1.0</td>\n",
       "      <td>2.0</td>\n",
       "      <td>1</td>\n",
       "      <td>0.0</td>\n",
       "      <td>2708</td>\n",
       "      <td>1167.0</td>\n",
       "      <td>97000</td>\n",
       "      <td>60.0</td>\n",
       "      <td>1</td>\n",
       "      <td>1.0</td>\n",
       "    </tr>\n",
       "  </tbody>\n",
       "</table>\n",
       "</div>"
      ],
      "text/plain": [
       "     Gender  Married  Dependents  Rent_or_Own  Self_Employed  Income  \\\n",
       "454     1.0      0.0         0.0            1            1.0    7085   \n",
       "52      0.0      0.0         0.0            1            0.0    4230   \n",
       "536     1.0      1.0         0.0            1            0.0    6233   \n",
       "469     1.0      1.0         0.0            1            0.0    4333   \n",
       "55      1.0      1.0         2.0            1            0.0    2708   \n",
       "\n",
       "     CoapplicantIncome  Plot_Price  Loan_Duration_Months  Estate  \\\n",
       "454                0.0       84000                  60.0       1   \n",
       "52                 0.0      112000                  60.0       1   \n",
       "536             3906.0      324000                  60.0       0   \n",
       "469             2451.0      110000                  60.0       0   \n",
       "55              1167.0       97000                  60.0       1   \n",
       "\n",
       "     Any_other_debt  \n",
       "454             1.0  \n",
       "52              1.0  \n",
       "536             1.0  \n",
       "469             1.0  \n",
       "55              1.0  "
      ]
     },
     "execution_count": 45,
     "metadata": {},
     "output_type": "execute_result"
    }
   ],
   "source": [
    "test_X.head()"
   ]
  },
  {
   "cell_type": "markdown",
   "id": "e94c1456",
   "metadata": {},
   "source": [
    "# Using Different types of Machine Learning Model\n"
   ]
  },
  {
   "cell_type": "code",
   "execution_count": 46,
   "id": "93a9e12a",
   "metadata": {},
   "outputs": [],
   "source": [
    "from sklearn.tree import DecisionTreeClassifier\n",
    "from sklearn.svm import SVC\n",
    "from sklearn.neighbors import KNeighborsClassifier\n",
    "from sklearn.naive_bayes import GaussianNB\n",
    "from sklearn.discriminant_analysis import LinearDiscriminantAnalysis\n",
    "from sklearn.linear_model import LogisticRegression\n",
    "from sklearn.ensemble import RandomForestClassifier"
   ]
  },
  {
   "cell_type": "code",
   "execution_count": 120,
   "id": "d95d7685",
   "metadata": {},
   "outputs": [],
   "source": [
    "models=[]\n",
    "#models.append((\"Logistic Regression\",LogisticRegression()))\n",
    "#models.append((\"Decision Tree\",DecisionTreeClassifier()))\n",
    "#models.append((\"Linear Discriminant Analysis\",LinearDiscriminantAnalysis()))\n",
    "models.append((\"Random Forest\",RandomForestClassifier()))\n",
    "#models.append((\"Support Vector Classifier\",SVC()))\n",
    "#models.append((\"K- Neirest Neighbour\",KNeighborsClassifier()))\n",
    "#models.append((\"Naive Bayes\",GaussianNB()))"
   ]
  },
  {
   "cell_type": "code",
   "execution_count": 121,
   "id": "d60f3fc6",
   "metadata": {},
   "outputs": [],
   "source": [
    "scoring='accuracy'"
   ]
  },
  {
   "cell_type": "code",
   "execution_count": 122,
   "id": "e3708abe",
   "metadata": {},
   "outputs": [],
   "source": [
    "from sklearn.model_selection import KFold \n",
    "from sklearn.model_selection import cross_val_score\n",
    "result=[]\n",
    "names=[]"
   ]
  },
  {
   "cell_type": "code",
   "execution_count": 123,
   "id": "e4f3b325",
   "metadata": {},
   "outputs": [
    {
     "name": "stdout",
     "output_type": "stream",
     "text": [
      "RandomForestClassifier()\n",
      "Random Forest 0.897826\n"
     ]
    }
   ],
   "source": [
    "for name,model in models:\n",
    "    kfold=KFold(n_splits=10,random_state=None)\n",
    "    cv_result=cross_val_score(model,train_X,train_y,cv=kfold,scoring=scoring)\n",
    "    result.append(cv_result)\n",
    "    names.append(name)\n",
    "    print(model)\n",
    "    print(\"%s %f\" % (name,cv_result.mean()))"
   ]
  },
  {
   "cell_type": "code",
   "execution_count": 126,
   "id": "efd8421a",
   "metadata": {},
   "outputs": [
    {
     "name": "stdout",
     "output_type": "stream",
     "text": [
      "Random Forest Model : 84.42%\n",
      "[[ 28  17]\n",
      " [  7 102]]\n",
      "              precision    recall  f1-score   support\n",
      "\n",
      "           0       0.80      0.62      0.70        45\n",
      "           1       0.86      0.94      0.89       109\n",
      "\n",
      "    accuracy                           0.84       154\n",
      "   macro avg       0.83      0.78      0.80       154\n",
      "weighted avg       0.84      0.84      0.84       154\n",
      "\n"
     ]
    }
   ],
   "source": [
    "from sklearn.metrics import accuracy_score\n",
    "from sklearn.metrics import confusion_matrix\n",
    "from sklearn.metrics import classification_report\n",
    "\n",
    "model = RandomForestClassifier(n_estimators = 200, random_state=200)\n",
    "model.fit(train_X, train_y)\n",
    "pred = model.predict(test_X)\n",
    "print(\"Random Forest Model : {:.2f}%\".format(accuracy_score(pred,test_y)*100))\n",
    "print(confusion_matrix(test_y,pred))\n",
    "print(classification_report(test_y,pred))"
   ]
  },
  {
   "cell_type": "code",
   "execution_count": 127,
   "id": "8de97b4d",
   "metadata": {},
   "outputs": [
    {
     "name": "stdout",
     "output_type": "stream",
     "text": [
      "[0 1 1 1 1 1 0 0 1 1 1 1 1 1 0 0 1 1 1 1 1 1 1 1 0 1 1 1 1 0 1 0 1 1 0 1 1\n",
      " 1 1 1 0 1 0 1 0 1 1 1 1 1 1 1 1 0 1 1 1 0 1 1 1 0 1 0 1 1 1 1 1 1 1 1 1 1\n",
      " 1 1 1 0 0 1 1 0 0 1 1 1 1 1 1 1 1 1 1 1 1 1 0 1 1 0 1 1 1 1 0 1 1 1 1 1 0\n",
      " 1 1 1 1 1 1 1 1 1 0 1 1 1 0 1 1 1 1 0 0 1 1 0 1 1 1 1 1 0 1 0 1 1 0 0 1 0\n",
      " 1 1 1 0 1 1]\n"
     ]
    }
   ],
   "source": [
    "print(pred)"
   ]
  },
  {
   "cell_type": "code",
   "execution_count": 128,
   "id": "1e6afb4b",
   "metadata": {},
   "outputs": [],
   "source": [
    "X_test=df.iloc[614:,] "
   ]
  },
  {
   "cell_type": "code",
   "execution_count": 129,
   "id": "e31f1f3e",
   "metadata": {},
   "outputs": [
    {
     "data": {
      "text/html": [
       "<div>\n",
       "<style scoped>\n",
       "    .dataframe tbody tr th:only-of-type {\n",
       "        vertical-align: middle;\n",
       "    }\n",
       "\n",
       "    .dataframe tbody tr th {\n",
       "        vertical-align: top;\n",
       "    }\n",
       "\n",
       "    .dataframe thead th {\n",
       "        text-align: right;\n",
       "    }\n",
       "</style>\n",
       "<table border=\"1\" class=\"dataframe\">\n",
       "  <thead>\n",
       "    <tr style=\"text-align: right;\">\n",
       "      <th></th>\n",
       "      <th>Gender</th>\n",
       "      <th>Married</th>\n",
       "      <th>Dependents</th>\n",
       "      <th>Rent_or_Own</th>\n",
       "      <th>Self_Employed</th>\n",
       "      <th>Income</th>\n",
       "      <th>CoapplicantIncome</th>\n",
       "      <th>Plot_Price</th>\n",
       "      <th>Loan_Duration_Months</th>\n",
       "      <th>Estate</th>\n",
       "      <th>Any_other_debt</th>\n",
       "    </tr>\n",
       "  </thead>\n",
       "  <tbody>\n",
       "    <tr>\n",
       "      <th>0</th>\n",
       "      <td>1.0</td>\n",
       "      <td>1.0</td>\n",
       "      <td>1.0</td>\n",
       "      <td>0</td>\n",
       "      <td>0.0</td>\n",
       "      <td>5750</td>\n",
       "      <td>0.0</td>\n",
       "      <td>115000</td>\n",
       "      <td>60.0</td>\n",
       "      <td>0</td>\n",
       "      <td>1.0</td>\n",
       "    </tr>\n",
       "    <tr>\n",
       "      <th>1</th>\n",
       "      <td>1.0</td>\n",
       "      <td>1.0</td>\n",
       "      <td>1.0</td>\n",
       "      <td>1</td>\n",
       "      <td>0.0</td>\n",
       "      <td>6076</td>\n",
       "      <td>1500.0</td>\n",
       "      <td>131000</td>\n",
       "      <td>60.0</td>\n",
       "      <td>0</td>\n",
       "      <td>1.0</td>\n",
       "    </tr>\n",
       "    <tr>\n",
       "      <th>2</th>\n",
       "      <td>1.0</td>\n",
       "      <td>1.0</td>\n",
       "      <td>3.0</td>\n",
       "      <td>1</td>\n",
       "      <td>0.0</td>\n",
       "      <td>5000</td>\n",
       "      <td>36.0</td>\n",
       "      <td>213000</td>\n",
       "      <td>60.0</td>\n",
       "      <td>0</td>\n",
       "      <td>1.0</td>\n",
       "    </tr>\n",
       "    <tr>\n",
       "      <th>3</th>\n",
       "      <td>1.0</td>\n",
       "      <td>1.0</td>\n",
       "      <td>2.0</td>\n",
       "      <td>1</td>\n",
       "      <td>0.0</td>\n",
       "      <td>5640</td>\n",
       "      <td>2546.0</td>\n",
       "      <td>105000</td>\n",
       "      <td>60.0</td>\n",
       "      <td>0</td>\n",
       "      <td>1.0</td>\n",
       "    </tr>\n",
       "    <tr>\n",
       "      <th>4</th>\n",
       "      <td>1.0</td>\n",
       "      <td>0.0</td>\n",
       "      <td>3.0</td>\n",
       "      <td>0</td>\n",
       "      <td>0.0</td>\n",
       "      <td>6576</td>\n",
       "      <td>0.0</td>\n",
       "      <td>83000</td>\n",
       "      <td>60.0</td>\n",
       "      <td>0</td>\n",
       "      <td>1.0</td>\n",
       "    </tr>\n",
       "  </tbody>\n",
       "</table>\n",
       "</div>"
      ],
      "text/plain": [
       "   Gender  Married  Dependents  Rent_or_Own  Self_Employed  Income  \\\n",
       "0     1.0      1.0         1.0            0            0.0    5750   \n",
       "1     1.0      1.0         1.0            1            0.0    6076   \n",
       "2     1.0      1.0         3.0            1            0.0    5000   \n",
       "3     1.0      1.0         2.0            1            0.0    5640   \n",
       "4     1.0      0.0         3.0            0            0.0    6576   \n",
       "\n",
       "   CoapplicantIncome  Plot_Price  Loan_Duration_Months  Estate  Any_other_debt  \n",
       "0                0.0      115000                  60.0       0             1.0  \n",
       "1             1500.0      131000                  60.0       0             1.0  \n",
       "2               36.0      213000                  60.0       0             1.0  \n",
       "3             2546.0      105000                  60.0       0             1.0  \n",
       "4                0.0       83000                  60.0       0             1.0  "
      ]
     },
     "execution_count": 129,
     "metadata": {},
     "output_type": "execute_result"
    }
   ],
   "source": [
    "X_test.head()"
   ]
  },
  {
   "cell_type": "code",
   "execution_count": 130,
   "id": "9b62d082",
   "metadata": {},
   "outputs": [],
   "source": [
    "prediction = model.predict(X_test)"
   ]
  },
  {
   "cell_type": "code",
   "execution_count": 131,
   "id": "20a3bd9a",
   "metadata": {},
   "outputs": [
    {
     "name": "stdout",
     "output_type": "stream",
     "text": [
      "[1 1 1 1 0 1 0 1 0 1 0 1 0 0 1 1 1 1 0 1 0 0 0 0 1 1 1 1 0 1 0 1 1 1 1 1 1\n",
      " 1 0 1 1 0 1 1 0 1 1 1 1 1 1 1 1 0 0 1 1 1 1 0 1 0 1 1 1 1 1 0 1 1 0 0 1 1\n",
      " 1 1 1 0 0 1 1 0 1 1 1 1 1 0 1 1 1 0 1 1 1 0 1 1 0 1 1 0 0 0 1 1 1 1 1 1 0\n",
      " 1 0 1 1 1 1 1 1 0 0 1 1 1 0 1 0 1 0 0 1 1 1 0 1 1 1 1 0 1 1 1 0 0 0 0 0 0\n",
      " 1 1 1 0 1 1 0 1 1 0 1 0 1 0 1 0 0 1 1 1 1 0 0 1 0 1 1 1 1 0 0 0 1 1 0 1 0\n",
      " 0 1 1 0 1 1 1 1 1 0 0 1 1 1 1 0 0 1 1 1 1 1 1 0 1 0 1 1 1 0 1 1 1 1 1 1 1\n",
      " 1 1 0 0 1 1 1 0 0 1 0 0 1 1 1 1 1 1 0 1 1 1 0 1 1 0 0 0 1 0 1 1 1 0 0 1 1\n",
      " 1 1 1 0 0 1 1 1 1 0 0 1 1 0 1 0 1 1 1 1 0 1 1 1 0 0 1 1 1 1 0 1 1 0 1 1 0\n",
      " 0 0 1 1 0 0 0 1 1 1 1 0 1 1 1 1 1 1 1 0 1 1 1 1 1 1 0 0 0 1 1 1 0 1 0 0 1\n",
      " 0 0 0 1 1 1 1 1 1 0 0 0 1 1 0 1 1 1 1 1 1 1 1 1 0 0 1 0 1 0 1 1 1 0]\n"
     ]
    }
   ],
   "source": [
    "print(prediction)"
   ]
  },
  {
   "cell_type": "code",
   "execution_count": 132,
   "id": "248fdd78",
   "metadata": {},
   "outputs": [],
   "source": [
    "## Data test\n",
    "t = model.predict([[0.0,\t0.0,\t0.0,\t1,\t0.0,\t5000,\t1666.0,\t60000.0,\t60.0,\t1.0,\t1]])"
   ]
  },
  {
   "cell_type": "code",
   "execution_count": 133,
   "id": "637bb3d0",
   "metadata": {},
   "outputs": [
    {
     "name": "stdout",
     "output_type": "stream",
     "text": [
      "[0]\n"
     ]
    }
   ],
   "source": [
    "print(t)"
   ]
  },
  {
   "cell_type": "code",
   "execution_count": 134,
   "id": "fcb96997",
   "metadata": {},
   "outputs": [],
   "source": [
    "with open('The_Predicition_Model_2', 'wb') as files:\n",
    "    pickle.dump(model, files)"
   ]
  },
  {
   "cell_type": "code",
   "execution_count": null,
   "id": "57f1ea82",
   "metadata": {},
   "outputs": [],
   "source": []
  }
 ],
 "metadata": {
  "kernelspec": {
   "display_name": "Python 3 (ipykernel)",
   "language": "python",
   "name": "python3"
  },
  "language_info": {
   "codemirror_mode": {
    "name": "ipython",
    "version": 3
   },
   "file_extension": ".py",
   "mimetype": "text/x-python",
   "name": "python",
   "nbconvert_exporter": "python",
   "pygments_lexer": "ipython3",
   "version": "3.9.7"
  }
 },
 "nbformat": 4,
 "nbformat_minor": 5
}
